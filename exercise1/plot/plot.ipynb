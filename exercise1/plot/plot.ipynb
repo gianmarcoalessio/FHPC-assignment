{
 "cells": [
  {
   "cell_type": "code",
   "execution_count": null,
   "metadata": {},
   "outputs": [],
   "source": [
    "import matplotlib.pyplot as plt\n",
    "import numpy as np\n",
    "import os\n",
    "\n",
    "def plot_speedup(filename):\n",
    "    \"\"\"\n",
    "    Plots speedup data for a given file.\n",
    "    \n",
    "    Parameters:\n",
    "    - filename: The name of the file containing the data.\n",
    "    \"\"\"\n",
    "    plt.figure(figsize=(10, 6))  # Initialize the plot\n",
    "\n",
    "    # Check if the file exists\n",
    "    if os.path.exists(filename):\n",
    "        with open(filename, 'r') as f:\n",
    "            data = f.readlines()\n",
    "            x = [int(line.split(',')[1]) for line in data[1:]]  # procs, skip header\n",
    "            y = [float(line.split(',')[2]) for line in data[1:]]  # static_mean, skip header\n",
    "\n",
    "            # Plot the data\n",
    "            plt.plot(x, y, label='Speedup', marker='o')\n",
    "    else:\n",
    "        print(f\"File not found: {filename}\")\n",
    "\n",
    "    # Setting plot attributes\n",
    "    plt.xlabel('Number of Processes')\n",
    "    plt.ylabel('Speedup')\n",
    "    plt.title('Speedup vs Number of Processes', fontsize='x-large', fontweight='bold')\n",
    "\n",
    "    plt.legend()\n",
    "    plt.grid(which='major', linestyle='--', linewidth=0.5, color='gray', alpha=0.5)\n",
    "    plt.minorticks_on()\n",
    "    plt.xticks(ticks=sorted(set(x)),rotation=45, fontsize='small')\n",
    "    plt.savefig(f'{os.path.splitext(filename)[0]}.png')\n",
    "\n",
    "# Call the function with your file\n",
    "plot_speedup('../thin/mpi_strong_scalability/15000.csv')"
   ]
  }
 ],
 "metadata": {
  "language_info": {
   "name": "python"
  }
 },
 "nbformat": 4,
 "nbformat_minor": 2
}
